Hits=open("A6P5D7GR015-Alignment.txt","r")
with open("300419_hits.txt","w")as b, open("300419_proteins.txt","w") as output:
    for line in Hits:
        new_line = line.split("\t")
        if new_line[0]=="XP_003397561.2" and new_line[1]=="NC_015770.1":
            print(new_line)
            joined_line = '\t'.join(new_line)
            output_line=(joined_line)
            output.write(output_line)
        if new_line[0]=="XP_003397559.1" and new_line[1]=="NC_015770.1":
            print(new_line)
            joined_line = '\t'.join(new_line)
            output_line=(joined_line)
            output.write(output_line)
        if new_line[0]=="XP_012170036.1" and new_line[1]=="NC_015773.1":
            print(new_line)
            joined_line = '\t'.join(new_line)
            output_line=(joined_line)
            output.write(output_line)
        if new_line[0]=="Bter_a4" and new_line[1]=="NW_003565929.1":
            print(new_line)
            joined_line = '\t'.join(new_line)
            output_line=(joined_line)
            output.write(output_line)
        if new_line[0]=="Bter_a4" and new_line[1]=="NC_015771.1":
            print(new_line)
            joined_line = '\t'.join(new_line)
            output_line=(joined_line)
            output.write(output_line)
        if new_line[0]=="XP_020722434.1" and new_line[1]=="NC_015776.1":
            print(new_line)
            joined_line = '\t'.join(new_line)
            output_line=(joined_line)
            output.write(output_line)
        if new_line[0]=="XP_020723485.1" and new_line[1]=="NC_015763.1":
            print(new_line)
            joined_line = '\t'.join(new_line)
            output_line=(joined_line)
            output.write(output_line)
        if new_line[0]=="XP_012167932.1" and new_line[1]=="NC_015762.1":
            print(new_line)
            joined_line = '\t'.join(new_line)
            output_line=(joined_line)
            output.write(output_line)
        if new_line[0]=="XP_012163744.1" and new_line[1]=="NC_015766.1":
            print(new_line)
            joined_line = '\t'.join(new_line)
            output_line=(joined_line)
            output.write(output_line)
        if new_line[0]=="Bter_a9" and new_line[1]=="NC_015770.1":
            print(new_line)
            joined_line = '\t'.join(new_line)
            output_line=(joined_line)
            output.write(output_line)
        if new_line[0]=="Bter_b2" and new_line[1]=="NC_015770.1":
            print(new_line)
            joined_line = '\t'.join(new_line)
            output_line=(joined_line)
            output.write(output_line)
        if new_line[0]=="XP_003393394.1" and new_line[1]=="NC_015762.1":
            print(new_line)
            joined_line = '\t'.join(new_line)
            output_line=(joined_line)
            output.write(output_line)
        else:
            joined_line = '\t'.join(new_line)
            b_line=(joined_line)
            b.write(b_line)
output.close()
b.close()
